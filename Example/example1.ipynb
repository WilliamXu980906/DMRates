{
 "cells": [
  {
   "cell_type": "code",
   "execution_count": 1,
   "metadata": {},
   "outputs": [],
   "source": [
    "\"\"\"\n",
    "Zihao Xu\n",
    "Email: xzh19980906@gmail.com\n",
    "\n",
    "This example shows how to calculate pure Xe131 spin-dependent event rate\n",
    "\"\"\"\n",
    "\n",
    "import numpy as np\n",
    "import matplotlib.pyplot as plt\n",
    "\n",
    "from DMRates import *"
   ]
  },
  {
   "cell_type": "code",
   "execution_count": 2,
   "metadata": {},
   "outputs": [],
   "source": [
    "\"\"\" Set MChi to be 100 GeV \"\"\"\n",
    "MChi = 100 * M_GEV\n",
    "\"\"\" Set target nucleus to be Xe131 \"\"\"\n",
    "Atom = ATOM_TABLE['Xe131']\n",
    "\"\"\" Set target to be pure Xe131 \"\"\"\n",
    "Pure = True\n",
    "\n",
    "\"\"\" Initialize class \"\"\"\n",
    "Target = TARGET(Atom, MChi, Pure)"
   ]
  },
  {
   "cell_type": "code",
   "execution_count": 3,
   "metadata": {},
   "outputs": [],
   "source": [
    "\"\"\" Set spectra type \"\"\"\n",
    "type__ = 'p_mean'\n",
    "\"\"\" Set cross section with nucleon \"\"\"\n",
    "sigma0 = 1E-45 * CM2\n",
    "\"\"\" Define event rate function \"\"\"\n",
    "EventRate = lambda Er: Target.SD_DifRate(Er, type__, sigma0)\n",
    "\n",
    "\"\"\" x axis \"\"\"\n",
    "X = np.linspace(0, 100, 100)\n",
    "\"\"\" Corresponding recoil energy \"\"\"\n",
    "ER = X * KEV\n",
    "\"\"\" Get event rate in events/day/keV/kg \"\"\"\n",
    "Y = [EventRate(Er) * DAY * KEV * KG for Er in ER]"
   ]
  },
  {
   "cell_type": "code",
   "execution_count": 4,
   "metadata": {},
   "outputs": [
    {
     "data": {
      "image/png": "[encoded data removed]",
      "text/plain": [
       "<Figure size 432x288 with 1 Axes>"
      ]
     },
     "metadata": {
      "needs_background": "light"
     },
     "output_type": "display_data"
    }
   ],
   "source": [
    "\"\"\" Visualization \"\"\"\n",
    "ax = plt.subplot(111)\n",
    "ax.semilogy(X, Y)\n",
    "\n",
    "ax.set_xlim([0, 100])\n",
    "ax.set_xlabel('Recoil energy (keV)')\n",
    "ax.set_ylabel('SD event rate (events/day/keV/kg)')\n",
    "\n",
    "\"\"\" Show the plot \"\"\"\n",
    "plt.show()"
   ]
  },
  {
   "cell_type": "code",
   "execution_count": null,
   "metadata": {},
   "outputs": [],
   "source": []
  }
 ],
 "metadata": {
  "kernelspec": {
   "display_name": "Python 3",
   "language": "python",
   "name": "python3"
  },
  "language_info": {
   "codemirror_mode": {
    "name": "ipython",
    "version": 3
   },
   "file_extension": ".py",
   "mimetype": "text/x-python",
   "name": "python",
   "nbconvert_exporter": "python",
   "pygments_lexer": "ipython3",
   "version": "3.7.0"
  }
 },
 "nbformat": 4,
 "nbformat_minor": 2
}
